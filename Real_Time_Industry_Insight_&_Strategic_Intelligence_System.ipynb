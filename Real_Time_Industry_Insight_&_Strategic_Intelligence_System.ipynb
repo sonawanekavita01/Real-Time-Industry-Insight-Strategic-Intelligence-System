{
  "nbformat": 4,
  "nbformat_minor": 0,
  "metadata": {
    "colab": {
      "provenance": [],
      "toc_visible": true,
      "authorship_tag": "ABX9TyPkFJWKad7KV5WeLharfY/u",
      "include_colab_link": true
    },
    "kernelspec": {
      "name": "python3",
      "display_name": "Python 3"
    },
    "language_info": {
      "name": "python"
    }
  },
  "cells": [
    {
      "cell_type": "markdown",
      "metadata": {
        "id": "view-in-github",
        "colab_type": "text"
      },
      "source": [
        "<a href=\"https://colab.research.google.com/github/sonawanekavita01/Real-Time-Industry-Insight-Strategic-Intelligence-System/blob/main/Real_Time_Industry_Insight_%26_Strategic_Intelligence_System.ipynb\" target=\"_parent\"><img src=\"https://colab.research.google.com/assets/colab-badge.svg\" alt=\"Open In Colab\"/></a>"
      ]
    },
    {
      "cell_type": "code",
      "execution_count": null,
      "metadata": {
        "id": "sctxZqZU3oR2"
      },
      "outputs": [],
      "source": []
    },
    {
      "cell_type": "code",
      "source": [
        "from google.colab import drive\n",
        "drive.mount('/content/drive')"
      ],
      "metadata": {
        "id": "m8RB5aYk39EF"
      },
      "execution_count": null,
      "outputs": []
    }
  ]
}